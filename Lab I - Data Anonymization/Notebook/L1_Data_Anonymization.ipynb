{
 "cells": [
  {
   "cell_type": "markdown",
   "metadata": {
    "id": "kb3-fEwU8Zcu"
   },
   "source": [
    "## Fairness, Accountability, Transparency and Ethics Course (FATE)\n",
    "## Universitat Pompeu Fabra (UPF)\n",
    "### Academic Year 2025-2026\n",
    "### Author: Ashwin Singh (ashwin.singh01@estudiant.upf.edu)\n",
    "*** Partially based on the original exercises made by David Solans (david.solans@upf.edu) ***\n",
    "\n",
    "Submission date: 03/02/2025 at 23:59 on Aula Global\n",
    "\n",
    "Please work on this notebook **individually**."
   ]
  },
  {
   "cell_type": "markdown",
   "metadata": {
    "id": "tiNB9MXw8Zcw"
   },
   "source": [
    "# LAB 1: Data anonymization with Python"
   ]
  },
  {
   "cell_type": "markdown",
   "metadata": {
    "id": "LwcB-eoBS36Z"
   },
   "source": [
    "# Getting Started"
   ]
  },
  {
   "cell_type": "markdown",
   "metadata": {
    "id": "_UArlWD58Zcx"
   },
   "source": [
    "## Imports"
   ]
  },
  {
   "cell_type": "code",
   "execution_count": 4,
   "metadata": {
    "id": "Xojx0A5Q8Zcy"
   },
   "outputs": [],
   "source": [
    "from sklearn.preprocessing import MinMaxScaler\n",
    "from sklearn.metrics import mean_squared_error\n",
    "from sklearn.mixture import GaussianMixture\n",
    "from sklearn.cluster import KMeans\n",
    "from scipy.stats import pearsonr\n",
    "\n",
    "import matplotlib.pyplot as plt\n",
    "import seaborn as sns\n",
    "import pandas as pd\n",
    "import numpy as np\n",
    "import random"
   ]
  },
  {
   "cell_type": "code",
   "execution_count": 5,
   "metadata": {
    "id": "k2MkPSvbSf0f"
   },
   "outputs": [],
   "source": [
    "import warnings\n",
    "\n",
    "warnings.filterwarnings(action=\"ignore\")"
   ]
  },
  {
   "cell_type": "markdown",
   "metadata": {
    "id": "yyEsipXz8Zcy"
   },
   "source": [
    "## Loading Dataset\n",
    "In this section we will use a synthetic dataset containing medical records of 100 users."
   ]
  },
  {
   "cell_type": "code",
   "execution_count": 8,
   "metadata": {
    "colab": {
     "base_uri": "https://localhost:8080/",
     "height": 310
    },
    "id": "a4CmA4DH8Zcy",
    "outputId": "f8f81b9c-5583-4fff-e1b2-9a4951d244ec"
   },
   "outputs": [
    {
     "data": {
      "text/html": [
       "<div>\n",
       "<style scoped>\n",
       "    .dataframe tbody tr th:only-of-type {\n",
       "        vertical-align: middle;\n",
       "    }\n",
       "\n",
       "    .dataframe tbody tr th {\n",
       "        vertical-align: top;\n",
       "    }\n",
       "\n",
       "    .dataframe thead th {\n",
       "        text-align: right;\n",
       "    }\n",
       "</style>\n",
       "<table border=\"1\" class=\"dataframe\">\n",
       "  <thead>\n",
       "    <tr style=\"text-align: right;\">\n",
       "      <th></th>\n",
       "      <th>PatientName</th>\n",
       "      <th>SSN</th>\n",
       "      <th>PatientID</th>\n",
       "      <th>Phone</th>\n",
       "      <th>Gender</th>\n",
       "      <th>BirthDate</th>\n",
       "      <th>ZipCode</th>\n",
       "      <th>Health Condition</th>\n",
       "      <th>Weight</th>\n",
       "      <th>Height</th>\n",
       "    </tr>\n",
       "  </thead>\n",
       "  <tbody>\n",
       "    <tr>\n",
       "      <th>0</th>\n",
       "      <td>Pablo de Cobo</td>\n",
       "      <td>412-92-6881</td>\n",
       "      <td>1000</td>\n",
       "      <td>+34 738 644 211</td>\n",
       "      <td>Male</td>\n",
       "      <td>20011009</td>\n",
       "      <td>8003</td>\n",
       "      <td>Bird flu</td>\n",
       "      <td>80</td>\n",
       "      <td>184</td>\n",
       "    </tr>\n",
       "    <tr>\n",
       "      <th>1</th>\n",
       "      <td>Fabio Menendez Velasco</td>\n",
       "      <td>265-27-3243</td>\n",
       "      <td>1001</td>\n",
       "      <td>+34742032426</td>\n",
       "      <td>Male</td>\n",
       "      <td>20010110</td>\n",
       "      <td>8003</td>\n",
       "      <td>Bird flu</td>\n",
       "      <td>79</td>\n",
       "      <td>179</td>\n",
       "    </tr>\n",
       "    <tr>\n",
       "      <th>2</th>\n",
       "      <td>Flavia Cabañas Cabanillas</td>\n",
       "      <td>554-97-8002</td>\n",
       "      <td>1002</td>\n",
       "      <td>+34712747631</td>\n",
       "      <td>Female</td>\n",
       "      <td>20010101</td>\n",
       "      <td>8014</td>\n",
       "      <td>Bird flu</td>\n",
       "      <td>67</td>\n",
       "      <td>172</td>\n",
       "    </tr>\n",
       "    <tr>\n",
       "      <th>3</th>\n",
       "      <td>Eliana Vendrell-Vilalta</td>\n",
       "      <td>990-49-6929</td>\n",
       "      <td>1003</td>\n",
       "      <td>+34 712 466 137</td>\n",
       "      <td>Female</td>\n",
       "      <td>20001009</td>\n",
       "      <td>8002</td>\n",
       "      <td>Common cold and flu</td>\n",
       "      <td>93</td>\n",
       "      <td>184</td>\n",
       "    </tr>\n",
       "    <tr>\n",
       "      <th>4</th>\n",
       "      <td>César Mas Silva</td>\n",
       "      <td>833-83-9451</td>\n",
       "      <td>1004</td>\n",
       "      <td>+34716 22 73 14</td>\n",
       "      <td>Male</td>\n",
       "      <td>20000101</td>\n",
       "      <td>8002</td>\n",
       "      <td>Common cold and flu</td>\n",
       "      <td>66</td>\n",
       "      <td>171</td>\n",
       "    </tr>\n",
       "  </tbody>\n",
       "</table>\n",
       "</div>"
      ],
      "text/plain": [
       "                 PatientName          SSN  PatientID            Phone  Gender  \\\n",
       "0              Pablo de Cobo  412-92-6881       1000  +34 738 644 211    Male   \n",
       "1     Fabio Menendez Velasco  265-27-3243       1001     +34742032426    Male   \n",
       "2  Flavia Cabañas Cabanillas  554-97-8002       1002     +34712747631  Female   \n",
       "3    Eliana Vendrell-Vilalta  990-49-6929       1003  +34 712 466 137  Female   \n",
       "4            César Mas Silva  833-83-9451       1004  +34716 22 73 14    Male   \n",
       "\n",
       "   BirthDate  ZipCode     Health Condition  Weight  Height  \n",
       "0   20011009     8003             Bird flu      80     184  \n",
       "1   20010110     8003             Bird flu      79     179  \n",
       "2   20010101     8014             Bird flu      67     172  \n",
       "3   20001009     8002  Common cold and flu      93     184  \n",
       "4   20000101     8002  Common cold and flu      66     171  "
      ]
     },
     "execution_count": 8,
     "metadata": {},
     "output_type": "execute_result"
    }
   ],
   "source": [
    "dataset_url = \"https://raw.githubusercontent.com/Ashwin-19/UPF-FATE-2025/refs/heads/main/Lab%20I%20-%20Data%20Anonymization/Data/health_dataset.csv\"\n",
    "health_data = pd.read_csv(dataset_url)\n",
    "health_data.head()"
   ]
  },
  {
   "cell_type": "markdown",
   "metadata": {
    "id": "ClpzpwIw8Zcz"
   },
   "source": [
    "## Types of Identifiers and Attributes [ 1 pts ]\n",
    "\n"
   ]
  },
  {
   "cell_type": "markdown",
   "metadata": {
    "id": "qYXzYQTM8Zcz"
   },
   "source": [
    "**[ 0.5 pts ]** List the identifiers and quasi-identifiers in the dataset:"
   ]
  },
  {
   "cell_type": "markdown",
   "metadata": {
    "id": "y3VbkFmf8Zcz"
   },
   "source": [
    "Identifiers:\n",
    "\n",
    "PatientName,\n",
    "SSN (Social Security Number),\n",
    "PatientID,\n",
    "Phone.\n",
    "\n",
    "Quasi-identifiers:\n",
    "\n",
    "Gender,\n",
    "BirthDate,\n",
    "ZipCode."
   ]
  },
  {
   "cell_type": "markdown",
   "metadata": {
    "id": "Km-uMIbH8Zcz"
   },
   "source": [
    "**[ 0.5 pts ]** List the confidential attributes in the dataset."
   ]
  },
  {
   "cell_type": "markdown",
   "metadata": {
    "id": "2Kp2l9vo8Zcz"
   },
   "source": [
    "Health Condition,\n",
    "Weight,\n",
    "Height."
   ]
  },
  {
   "cell_type": "markdown",
   "metadata": {
    "id": "7-05-LXe8Zcz"
   },
   "source": [
    "## Data Filtering [ 0.5 pts ]"
   ]
  },
  {
   "cell_type": "markdown",
   "metadata": {
    "id": "lVrgR_1a8Zc0"
   },
   "source": [
    "**[ 0.5 pts ]** Remove/Suppress the columns including personally identifiable information from the dataset.\n",
    "\n",
    "**[ Discuss ]** Why do we remove/supress them?\n",
    "By removing PII, we can better ensure the safety and privacy of the data subjects while still retaining valuable information for analysis and research."
   ]
  },
  {
   "cell_type": "code",
   "execution_count": 9,
   "metadata": {
    "id": "LPYQYtNM8Zc0"
   },
   "outputs": [
    {
     "data": {
      "text/html": [
       "<div>\n",
       "<style scoped>\n",
       "    .dataframe tbody tr th:only-of-type {\n",
       "        vertical-align: middle;\n",
       "    }\n",
       "\n",
       "    .dataframe tbody tr th {\n",
       "        vertical-align: top;\n",
       "    }\n",
       "\n",
       "    .dataframe thead th {\n",
       "        text-align: right;\n",
       "    }\n",
       "</style>\n",
       "<table border=\"1\" class=\"dataframe\">\n",
       "  <thead>\n",
       "    <tr style=\"text-align: right;\">\n",
       "      <th></th>\n",
       "      <th>Gender</th>\n",
       "      <th>BirthDate</th>\n",
       "      <th>ZipCode</th>\n",
       "      <th>Health Condition</th>\n",
       "      <th>Weight</th>\n",
       "      <th>Height</th>\n",
       "    </tr>\n",
       "  </thead>\n",
       "  <tbody>\n",
       "    <tr>\n",
       "      <th>0</th>\n",
       "      <td>Male</td>\n",
       "      <td>20011009</td>\n",
       "      <td>8003</td>\n",
       "      <td>Bird flu</td>\n",
       "      <td>80</td>\n",
       "      <td>184</td>\n",
       "    </tr>\n",
       "    <tr>\n",
       "      <th>1</th>\n",
       "      <td>Male</td>\n",
       "      <td>20010110</td>\n",
       "      <td>8003</td>\n",
       "      <td>Bird flu</td>\n",
       "      <td>79</td>\n",
       "      <td>179</td>\n",
       "    </tr>\n",
       "    <tr>\n",
       "      <th>2</th>\n",
       "      <td>Female</td>\n",
       "      <td>20010101</td>\n",
       "      <td>8014</td>\n",
       "      <td>Bird flu</td>\n",
       "      <td>67</td>\n",
       "      <td>172</td>\n",
       "    </tr>\n",
       "    <tr>\n",
       "      <th>3</th>\n",
       "      <td>Female</td>\n",
       "      <td>20001009</td>\n",
       "      <td>8002</td>\n",
       "      <td>Common cold and flu</td>\n",
       "      <td>93</td>\n",
       "      <td>184</td>\n",
       "    </tr>\n",
       "    <tr>\n",
       "      <th>4</th>\n",
       "      <td>Male</td>\n",
       "      <td>20000101</td>\n",
       "      <td>8002</td>\n",
       "      <td>Common cold and flu</td>\n",
       "      <td>66</td>\n",
       "      <td>171</td>\n",
       "    </tr>\n",
       "  </tbody>\n",
       "</table>\n",
       "</div>"
      ],
      "text/plain": [
       "   Gender  BirthDate  ZipCode     Health Condition  Weight  Height\n",
       "0    Male   20011009     8003             Bird flu      80     184\n",
       "1    Male   20010110     8003             Bird flu      79     179\n",
       "2  Female   20010101     8014             Bird flu      67     172\n",
       "3  Female   20001009     8002  Common cold and flu      93     184\n",
       "4    Male   20000101     8002  Common cold and flu      66     171"
      ]
     },
     "execution_count": 9,
     "metadata": {},
     "output_type": "execute_result"
    }
   ],
   "source": [
    "\"\"\" your code here \"\"\"\n",
    "pii_columns = ['PatientName', 'SSN', 'PatientID', 'Phone']\n",
    "health_data = health_data.drop(columns=pii_columns)\n",
    "health_data.head()"
   ]
  },
  {
   "cell_type": "markdown",
   "metadata": {
    "id": "r1805n3v9yhw"
   },
   "source": [
    "# K-Anonymity"
   ]
  },
  {
   "cell_type": "markdown",
   "metadata": {
    "id": "-MsCXZIl8Zc0"
   },
   "source": [
    "## Checking K-Anonymity [ 2 pts ]\n",
    "\n",
    "**[ 1.5 pts ]** Create a function which checks whether the data sastifies k-anonimity given some quasi-identifiers. Also return the maximum k for which the quasi-identifiers satisfy k-anonymity."
   ]
  },
  {
   "cell_type": "code",
   "execution_count": 12,
   "metadata": {
    "id": "qIYqUrOo8Zc0"
   },
   "outputs": [],
   "source": [
    "def is_k_anonymous(data, quasi_identifiers):\n",
    "    \"\"\"\n",
    "    Determines whether the data is k-anonymous quasi-identifiers\n",
    "    and the maximum k for which k-anonymity is satisfied.\n",
    "\n",
    "    Args:\n",
    "        data (pandas.DataFrame): microdata\n",
    "        quasi_identifiers (list): quasi-identifiers in microdata\n",
    "\n",
    "    Returns:\n",
    "        bool: indicating whether the data is k-anonymous\n",
    "        int: maximum k for which k-anonymity is satisfied\n",
    "    \"\"\"\n",
    "    grouped = data.groupby(quasi_identifiers).size()\n",
    "    \n",
    "    max_k = grouped.min()\n",
    "    \n",
    "    is_k_anonymous = max_k > 1\n",
    "\n",
    "    return is_k_anonymous, max_k"
   ]
  },
  {
   "cell_type": "markdown",
   "metadata": {
    "id": "a-WVEYmI8Zc0"
   },
   "source": [
    "**[ 0.25 pts ]** Is the data k-anonymous for BirthDate and ZipCode? If so, what is the maximum k for which k-anonymity is satisfied?"
   ]
  },
  {
   "cell_type": "code",
   "execution_count": 13,
   "metadata": {
    "id": "fJRuVyib8Zc0"
   },
   "outputs": [
    {
     "name": "stdout",
     "output_type": "stream",
     "text": [
      "Is the data k-anonymous? False\n",
      "Maximum k for which k-anonymity is satisfied: 1\n"
     ]
    }
   ],
   "source": [
    "quasi_identifiers = ['BirthDate', 'ZipCode']\n",
    "\n",
    "is_anonymous, max_k = is_k_anonymous(health_data, quasi_identifiers)\n",
    "\n",
    "print(f\"Is the data k-anonymous? {is_anonymous}\")\n",
    "print(f\"Maximum k for which k-anonymity is satisfied: {max_k}\")"
   ]
  },
  {
   "cell_type": "markdown",
   "metadata": {
    "id": "zkPLdqqY8Zc0"
   },
   "source": [
    "**[ 0.25 pts ]** Is the data k-anonymous for Gender and ZipCode? If so, what is the maximum k for which k-anonymity is satisfied?"
   ]
  },
  {
   "cell_type": "code",
   "execution_count": 14,
   "metadata": {
    "id": "rNrFAtB58Zc0"
   },
   "outputs": [
    {
     "name": "stdout",
     "output_type": "stream",
     "text": [
      "Is the data k-anonymous? True\n",
      "Maximum k for which k-anonymity is satisfied: 3\n"
     ]
    }
   ],
   "source": [
    "quasi_identifiers = ['Gender', 'ZipCode']\n",
    "\n",
    "is_anonymous, max_k = is_k_anonymous(health_data, quasi_identifiers)\n",
    "\n",
    "print(f\"Is the data k-anonymous? {is_anonymous}\")\n",
    "print(f\"Maximum k for which k-anonymity is satisfied: {max_k}\")"
   ]
  },
  {
   "cell_type": "markdown",
   "metadata": {
    "id": "g4Tn2Q9I8Zc0"
   },
   "source": [
    "## Testing K-Anonimity [ 1 pts ]\n",
    "\n",
    "To test our function, we will use a dataset from the example given in the [K-Anonymity article](https://en.wikipedia.org/wiki/K-anonymity) on Wikipedia and satisfies 2-anonymity for any combination of the attributes ``Age``, ``Gender`` and ``State of domicile``."
   ]
  },
  {
   "cell_type": "code",
   "execution_count": 15,
   "metadata": {
    "colab": {
     "base_uri": "https://localhost:8080/",
     "height": 363
    },
    "id": "yMU-ThrT8Zc0",
    "outputId": "ac87028a-d721-49b3-bb42-42780fe5d714"
   },
   "outputs": [
    {
     "data": {
      "text/html": [
       "<div>\n",
       "<style scoped>\n",
       "    .dataframe tbody tr th:only-of-type {\n",
       "        vertical-align: middle;\n",
       "    }\n",
       "\n",
       "    .dataframe tbody tr th {\n",
       "        vertical-align: top;\n",
       "    }\n",
       "\n",
       "    .dataframe thead th {\n",
       "        text-align: right;\n",
       "    }\n",
       "</style>\n",
       "<table border=\"1\" class=\"dataframe\">\n",
       "  <thead>\n",
       "    <tr style=\"text-align: right;\">\n",
       "      <th></th>\n",
       "      <th>Name</th>\n",
       "      <th>Age</th>\n",
       "      <th>Gender</th>\n",
       "      <th>Height</th>\n",
       "      <th>Weight</th>\n",
       "      <th>State of domicile</th>\n",
       "      <th>Religion</th>\n",
       "      <th>Disease</th>\n",
       "    </tr>\n",
       "  </thead>\n",
       "  <tbody>\n",
       "    <tr>\n",
       "      <th>0</th>\n",
       "      <td>*</td>\n",
       "      <td>20 &lt; Age ≤ 30</td>\n",
       "      <td>Female</td>\n",
       "      <td>165 cm</td>\n",
       "      <td>72 kg</td>\n",
       "      <td>Tamil Nadu</td>\n",
       "      <td>*</td>\n",
       "      <td>Cancer</td>\n",
       "    </tr>\n",
       "    <tr>\n",
       "      <th>1</th>\n",
       "      <td>*</td>\n",
       "      <td>20 &lt; Age ≤ 30</td>\n",
       "      <td>Female</td>\n",
       "      <td>162 cm</td>\n",
       "      <td>70 kg</td>\n",
       "      <td>Kerala</td>\n",
       "      <td>*</td>\n",
       "      <td>Viral infection</td>\n",
       "    </tr>\n",
       "    <tr>\n",
       "      <th>2</th>\n",
       "      <td>*</td>\n",
       "      <td>20 &lt; Age ≤ 30</td>\n",
       "      <td>Female</td>\n",
       "      <td>170 cm</td>\n",
       "      <td>68 kg</td>\n",
       "      <td>Tamil Nadu</td>\n",
       "      <td>*</td>\n",
       "      <td>Tuberculosis</td>\n",
       "    </tr>\n",
       "    <tr>\n",
       "      <th>3</th>\n",
       "      <td>*</td>\n",
       "      <td>20 &lt; Age ≤ 30</td>\n",
       "      <td>Male</td>\n",
       "      <td>170 cm</td>\n",
       "      <td>75 kg</td>\n",
       "      <td>Karnataka</td>\n",
       "      <td>*</td>\n",
       "      <td>No illness</td>\n",
       "    </tr>\n",
       "    <tr>\n",
       "      <th>4</th>\n",
       "      <td>*</td>\n",
       "      <td>20 &lt; Age ≤ 30</td>\n",
       "      <td>Female</td>\n",
       "      <td>165 cm</td>\n",
       "      <td>71 kg</td>\n",
       "      <td>Kerala</td>\n",
       "      <td>*</td>\n",
       "      <td>Heart-related</td>\n",
       "    </tr>\n",
       "    <tr>\n",
       "      <th>5</th>\n",
       "      <td>*</td>\n",
       "      <td>20 &lt; Age ≤ 30</td>\n",
       "      <td>Male</td>\n",
       "      <td>160 cm</td>\n",
       "      <td>69 kg</td>\n",
       "      <td>Karnataka</td>\n",
       "      <td>*</td>\n",
       "      <td>Tuberculosis</td>\n",
       "    </tr>\n",
       "    <tr>\n",
       "      <th>6</th>\n",
       "      <td>*</td>\n",
       "      <td>Age ≤ 20</td>\n",
       "      <td>Male</td>\n",
       "      <td>167 cm</td>\n",
       "      <td>85 kg</td>\n",
       "      <td>Kerala</td>\n",
       "      <td>*</td>\n",
       "      <td>Cancer</td>\n",
       "    </tr>\n",
       "    <tr>\n",
       "      <th>7</th>\n",
       "      <td>*</td>\n",
       "      <td>20 &lt; Age ≤ 30</td>\n",
       "      <td>Male</td>\n",
       "      <td>180 cm</td>\n",
       "      <td>81 kg</td>\n",
       "      <td>Karnataka</td>\n",
       "      <td>*</td>\n",
       "      <td>Heart-related</td>\n",
       "    </tr>\n",
       "    <tr>\n",
       "      <th>8</th>\n",
       "      <td>*</td>\n",
       "      <td>Age ≤ 20</td>\n",
       "      <td>Male</td>\n",
       "      <td>175 cm</td>\n",
       "      <td>79 kg</td>\n",
       "      <td>Kerala</td>\n",
       "      <td>*</td>\n",
       "      <td>Heart-related</td>\n",
       "    </tr>\n",
       "    <tr>\n",
       "      <th>9</th>\n",
       "      <td>*</td>\n",
       "      <td>Age ≤ 20</td>\n",
       "      <td>Male</td>\n",
       "      <td>169 cm</td>\n",
       "      <td>82 kg</td>\n",
       "      <td>Kerala</td>\n",
       "      <td>*</td>\n",
       "      <td>Viral infection</td>\n",
       "    </tr>\n",
       "  </tbody>\n",
       "</table>\n",
       "</div>"
      ],
      "text/plain": [
       "  Name            Age  Gender  Height Weight State of domicile Religion  \\\n",
       "0    *  20 < Age ≤ 30  Female  165 cm  72 kg        Tamil Nadu        *   \n",
       "1    *  20 < Age ≤ 30  Female  162 cm  70 kg            Kerala        *   \n",
       "2    *  20 < Age ≤ 30  Female  170 cm  68 kg        Tamil Nadu        *   \n",
       "3    *  20 < Age ≤ 30    Male  170 cm  75 kg         Karnataka        *   \n",
       "4    *  20 < Age ≤ 30  Female  165 cm  71 kg            Kerala        *   \n",
       "5    *  20 < Age ≤ 30    Male  160 cm  69 kg         Karnataka        *   \n",
       "6    *       Age ≤ 20    Male  167 cm  85 kg            Kerala        *   \n",
       "7    *  20 < Age ≤ 30    Male  180 cm  81 kg         Karnataka        *   \n",
       "8    *       Age ≤ 20    Male  175 cm  79 kg            Kerala        *   \n",
       "9    *       Age ≤ 20    Male  169 cm  82 kg            Kerala        *   \n",
       "\n",
       "           Disease  \n",
       "0           Cancer  \n",
       "1  Viral infection  \n",
       "2     Tuberculosis  \n",
       "3       No illness  \n",
       "4    Heart-related  \n",
       "5     Tuberculosis  \n",
       "6           Cancer  \n",
       "7    Heart-related  \n",
       "8    Heart-related  \n",
       "9  Viral infection  "
      ]
     },
     "execution_count": 15,
     "metadata": {},
     "output_type": "execute_result"
    }
   ],
   "source": [
    "wiki_data = pd.read_html(\"https://en.wikipedia.org/wiki/K-anonymity\",header=0)[1]\n",
    "wiki_data"
   ]
  },
  {
   "cell_type": "markdown",
   "metadata": {
    "id": "km_cYixC8Zc0"
   },
   "source": [
    "**[ 1 pts ]** Test k-anonimity for the three attributes and their different combinations picking two attributes at a time. For each combination, find the maximum k satisfying k-anonymity."
   ]
  },
  {
   "cell_type": "code",
   "execution_count": 17,
   "metadata": {
    "id": "h-_x4kR18Zc1"
   },
   "outputs": [
    {
     "name": "stdout",
     "output_type": "stream",
     "text": [
      "Combination: ('Age', 'Gender')\n",
      "Is the data k-anonymous? True\n",
      "Maximum k for which k-anonymity is satisfied: 3\n",
      "\n",
      "Combination: ('Age', 'State of domicile')\n",
      "Is the data k-anonymous? True\n",
      "Maximum k for which k-anonymity is satisfied: 2\n",
      "\n",
      "Combination: ('Gender', 'State of domicile')\n",
      "Is the data k-anonymous? True\n",
      "Maximum k for which k-anonymity is satisfied: 2\n",
      "\n"
     ]
    }
   ],
   "source": [
    "combinations = [\n",
    "    ['Age', 'Gender'],\n",
    "    ['Age', 'State of domicile'],\n",
    "    ['Gender', 'State of domicile']\n",
    "]\n",
    "\n",
    "results = {}\n",
    "for combo in combinations:\n",
    "    is_anonymous, max_k = is_k_anonymous(wiki_data, combo)\n",
    "    results[tuple(combo)] = (is_anonymous, max_k)\n",
    "\n",
    "for combo, result in results.items():\n",
    "    print(f\"Combination: {combo}\")\n",
    "    print(f\"Is the data k-anonymous? {result[0]}\")\n",
    "    print(f\"Maximum k for which k-anonymity is satisfied: {result[1]}\")\n",
    "    print()"
   ]
  },
  {
   "cell_type": "markdown",
   "metadata": {
    "id": "rOVlKCfm8Zc1"
   },
   "source": [
    "## Properties of K-Anonymity [ 1 pts ]\n",
    "> You may use examples from the previous exercises."
   ]
  },
  {
   "cell_type": "markdown",
   "metadata": {
    "id": "ymaJyK8G8Zc1"
   },
   "source": [
    "**[ 0.5 pts ]** If a dataset is $k_1$-anonymous for a set of attributes, and $k_2$-anonymous for any subset of those attributes, what is the relationship between $k_1$ and $k_2$? Can you show an example?"
   ]
  },
  {
   "cell_type": "markdown",
   "metadata": {
    "id": "CG2mwiLr8Zc1"
   },
   "source": [
    "The relationship between *k<sub>1</sub>* and *k<sub>2</sub>* is that *k<sub>2</sub>* must be less than or equal to *k<sub>1</sub>*.\r\n",
    "\r\n",
    "In other words, if a dataset is *k<sub>1</sub>*-anonymous for a set of attributes, it will be *k<sub>2</sub>*-anonymous for any subset of those attributes, with *k<sub>2</sub> ≤ k<sub>1</sub>*.\r\n",
    "\r\n",
    "The previous tests we have done in this code prove that this statement holds. An example is the *k*-anonymity for `Gender` and `ZipCode`, where:\r\n",
    "\r\n",
    "- For the attributes `Gender` and `ZipCode` together, the dataset achieves a *k<sub>1</sub>*-anonymity value of 3 (each combination of `Gender` and `ZipCode` appears at least 3 times in the dataset).\r\n",
    "- For the individual attribute `Gender` (a subset of `Gender` and `ZipCode`), the *k<sub>2</sub>*-anonymity value is 4 (since each value of `Gender` appears at least 4 times in the dataThis demonstrates that *k<sub>2</sub> ≥ k<sub>1</sub>* for subsets of attributes, as the subset (`Gender`) maintains or increases the frequency count compared to the full combination (`Gender` and `ZipCode`). on how the\r\n",
    ".\r\n",
    "\n"
   ]
  },
  {
   "cell_type": "code",
   "execution_count": 21,
   "metadata": {},
   "outputs": [
    {
     "name": "stdout",
     "output_type": "stream",
     "text": [
      "Is the data k-anonymous? True\n",
      "Maximum k for which k-anonymity is satisfied: 3\n"
     ]
    }
   ],
   "source": [
    "quasi_identifiers = ['Gender', 'ZipCode']\n",
    "\n",
    "is_anonymous, max_k = is_k_anonymous(health_data, quasi_identifiers)\n",
    "\n",
    "print(f\"Is the data k-anonymous? {is_anonymous}\")\n",
    "print(f\"Maximum k for which k-anonymity is satisfied: {max_k}\")"
   ]
  },
  {
   "cell_type": "markdown",
   "metadata": {
    "id": "xbliaPrp8Zc1"
   },
   "source": [
    "**[ 0.5 pts ]** If a dataset is $k_1$-anonymous given an attribute $a_1$, and $k_2$-anonymous given an attribute $a_2$, is the dataset always $k$-anonymous given attributes $\\{a_1,a_2\\}$ ? If not, show an example, and find the maximum $k$ for which the dataset can be $k$-anonymous."
   ]
  },
  {
   "cell_type": "markdown",
   "metadata": {
    "id": "W3CSPLiJ8Zc1"
   },
   "source": [
    "ttributes \\( A \\) and \\( B \\).\r\n"
   ]
  },
  {
   "cell_type": "markdown",
   "metadata": {
    "id": "eK377hos8Zc1"
   },
   "source": [
    "## Methods for K-Anonymity [ 5 pts ]"
   ]
  },
  {
   "cell_type": "markdown",
   "metadata": {
    "id": "C3X5qYdq8Zc1"
   },
   "source": [
    "### GLOBAL Recoding (Generalization)"
   ]
  },
  {
   "cell_type": "markdown",
   "metadata": {
    "id": "qdrOkRAR8Zc1"
   },
   "source": [
    "**[ 0.25 pts ]** Create a function which applies **global recoding** to an attribute in the data upto $n$ digits."
   ]
  },
  {
   "cell_type": "code",
   "execution_count": null,
   "metadata": {
    "id": "ePnvxHAW8Zc1"
   },
   "outputs": [],
   "source": [
    "def global_recoding(data, attribute, n):\n",
    "    \"\"\"\n",
    "    applies global recoding to an attribute in the data for n digits\n",
    "\n",
    "    Args:\n",
    "        data (pandas.DataFrame): data for anonymization\n",
    "        attribute (str): attribute to be recoded\n",
    "        n (int): number of digits to be recoded\n",
    "\n",
    "    Returns:\n",
    "        pandas.DataFrame: globally recoded data\n",
    "    \"\"\"\n",
    "    # your code here"
   ]
  },
  {
   "cell_type": "markdown",
   "metadata": {
    "id": "2-tflo5U8Zc2"
   },
   "source": [
    "**[ 0.75 pts ]** Use the function to list all possible ways of 3-anonymizing the dataset given attributes ``BirthDate`` and ``ZipCode``. What is the best way of 3-anonymizing the dataset if we want to preserve maximum information about the health conditions across different zip codes?"
   ]
  },
  {
   "cell_type": "markdown",
   "metadata": {
    "id": "GdNWyk4V8Zc6"
   },
   "source": [
    "**[ Answer ]**"
   ]
  },
  {
   "cell_type": "code",
   "execution_count": null,
   "metadata": {
    "id": "NU1FLYz_8Zc6"
   },
   "outputs": [],
   "source": [
    "# your code here"
   ]
  },
  {
   "cell_type": "markdown",
   "metadata": {
    "id": "TLqOFfOb8Zc7"
   },
   "source": [
    "**[ 1 pts ]** For the best way of $3$-anonymizing the dataset from last question, comment on the sufficiency of $k$-anonymity against **homogeneity** and **internal** attacks aimed at inferring the health condition of patients. If you find $k$-anonymity to be insufficient, you must show quasi-identifier equivalence classes (groups) susceptible to the attacks."
   ]
  },
  {
   "cell_type": "code",
   "execution_count": null,
   "metadata": {
    "id": "B28A1V6y8Zc7"
   },
   "outputs": [],
   "source": [
    "# your code here"
   ]
  },
  {
   "cell_type": "code",
   "execution_count": null,
   "metadata": {
    "id": "nJiVut6k8Zc7"
   },
   "outputs": [],
   "source": [
    "# your code here"
   ]
  },
  {
   "cell_type": "markdown",
   "metadata": {
    "id": "ja4H_AOw8Zc7"
   },
   "source": [
    "### Microaggregation"
   ]
  },
  {
   "cell_type": "markdown",
   "metadata": {
    "id": "yZAi5FJX8Zc7"
   },
   "source": [
    "**[ 2 pts ]** Create a function which microaggregates continuous attributes (``height, weight``) to achieve $k$-anonymity, while minimizing the loss in information across both attributes. Return the best-possible $k$-anonymity and corresponding loss.\n",
    "\n",
    "**Recommended Approach**: Experiment with a clustering algorithm for $n \\leq \\frac{|Data|}{k}$ clusters to achieve $k$-anonymity, and use sum of squared errors between original and anonymized data for loss of information."
   ]
  },
  {
   "cell_type": "code",
   "execution_count": null,
   "metadata": {
    "id": "jg_0nL1Z8Zc7"
   },
   "outputs": [],
   "source": [
    "def microaggregation(data,attributes,k):\n",
    "    \"\"\"\n",
    "    applies microaggregation to attributes in the data\n",
    "    to achieve k'-anonymity, k' >= k\n",
    "\n",
    "    Args:\n",
    "        data (pandas.DataFrame): data for anonymization\n",
    "        attributes (list): attributes to be microaggregated\n",
    "        k (int): lower bound of k-anonymity to achieve\n",
    "\n",
    "    Returns:\n",
    "        tuple:\n",
    "            float: loss of information to achieve k' anonymity\n",
    "            int: k' corresponding to k'-anonymity achieved\n",
    "    \"\"\"\n",
    "    return loss, observed_k"
   ]
  },
  {
   "cell_type": "markdown",
   "metadata": {
    "id": "lP4G5IIa8Zc7"
   },
   "source": [
    "**[ 1 pts ]** Plot the relationship between $k$-anonymity achieved v/s loss of information for $k \\in \\{2,3,4,...10\\}$. What do you observe?"
   ]
  },
  {
   "cell_type": "code",
   "execution_count": null,
   "metadata": {
    "id": "JghQ4KMW8Zc7"
   },
   "outputs": [],
   "source": [
    "# your code here"
   ]
  },
  {
   "cell_type": "markdown",
   "metadata": {
    "id": "AjWrSIJS8Zc7"
   },
   "source": [
    "# L-Diversity"
   ]
  },
  {
   "cell_type": "markdown",
   "metadata": {
    "id": "kn_U0Yut-P6L"
   },
   "source": [
    "## Checking L-Diversity [ 1.5 pts ]"
   ]
  },
  {
   "cell_type": "markdown",
   "metadata": {
    "id": "qXHX_27G8Zc7"
   },
   "source": [
    "**[ 0.5 pts ]** Create a function which checks whether a dataset is l-diverse given a sensitive attribute and quasi-identifiers. If so, return the maximum-l for which the dataset satisfies l-diversity."
   ]
  },
  {
   "cell_type": "code",
   "execution_count": null,
   "metadata": {
    "id": "oBzIXn788Zc7"
   },
   "outputs": [],
   "source": [
    "def is_l_diverse(data, sensitive, quasi_identifiers):\n",
    "    \"\"\"\n",
    "    checks whether a data is l-diverse for a sensitive\n",
    "    attribute given quasi-identifiers, and returns the\n",
    "    maximum l for which the data satisfies l-diversity\n",
    "\n",
    "    Args:\n",
    "        data (pandas.DataFrame): data to check l-diversity for\n",
    "        sensitive (str): sensitive attribute for l-diversity\n",
    "        quasi_identifiers (list): list of quasi-identifiers\n",
    "\n",
    "    Returns:\n",
    "        tuple:\n",
    "            bool: indicating whether the data is l-diverse\n",
    "            int: maximum l for which the data satisfies l-diversity\n",
    "    \"\"\"\n",
    "    return True, l"
   ]
  },
  {
   "cell_type": "markdown",
   "metadata": {
    "id": "hlflK4Z58Zc8"
   },
   "source": [
    "> Answer the following questions for the original dataset, globally recoded dataset."
   ]
  },
  {
   "cell_type": "markdown",
   "metadata": {
    "id": "B6UC_AeSDMWK"
   },
   "source": [
    "**[ 0.5 pts ]** Is the dataset l-diverse given ``Health Condition`` as sensitive attribute and ``ZipCode, BirthDate`` as quasi-identifiers?"
   ]
  },
  {
   "cell_type": "code",
   "execution_count": null,
   "metadata": {
    "id": "0yxy67pyDR9t"
   },
   "outputs": [],
   "source": [
    "# your code here"
   ]
  },
  {
   "cell_type": "code",
   "execution_count": null,
   "metadata": {
    "id": "tGcCNsTsDSrR"
   },
   "outputs": [],
   "source": [
    "# your code here"
   ]
  },
  {
   "cell_type": "markdown",
   "metadata": {
    "id": "kWZRDNyb8Zc8"
   },
   "source": [
    "**[ 0.5 pts ]** Is the dataset l-diverse given ``Gender`` as sensitive attribute and ``ZipCode, BirthDate`` as quasi-identifiers?"
   ]
  },
  {
   "cell_type": "code",
   "execution_count": null,
   "metadata": {
    "id": "1k8OgpEz8Zc8"
   },
   "outputs": [],
   "source": [
    "# your code here"
   ]
  },
  {
   "cell_type": "code",
   "execution_count": null,
   "metadata": {
    "id": "I8d6Pk4r8Zc8"
   },
   "outputs": [],
   "source": [
    "# your code here"
   ]
  },
  {
   "cell_type": "markdown",
   "metadata": {
    "id": "ln2_GOHj8Zc8"
   },
   "source": [
    "## L-Diversity via Local Suppression [ 2 pts ]"
   ]
  },
  {
   "cell_type": "markdown",
   "metadata": {
    "id": "DNBB15na8Zc8"
   },
   "source": [
    "**[ 1 pts ]** Create a function to apply local suppression to groups within a $k$-anonymized dataset which violate $l$-diversity given a sensitive attribute, two quasi-identifiers, and $l$. If the same is not feasible, raise an error.\n"
   ]
  },
  {
   "cell_type": "code",
   "execution_count": null,
   "metadata": {
    "id": "gpWKOYnKFhFQ"
   },
   "outputs": [],
   "source": [
    "def local_suppression(data,sensitive,quasi_identifiers,l):\n",
    "    \"\"\"\n",
    "    locally suppresses quasi-identifier equivalence classes\n",
    "    in anonymized data which violate l-diversity so that the\n",
    "    overall data satisfies l-diversity\n",
    "\n",
    "    Args:\n",
    "        data (pandas.DataFrame): data for local suppression\n",
    "        sensitive (str): sensitive attribute for l-diversity\n",
    "        quasi_identifiers (list): quasi-identifiers to suppress\n",
    "        l (int): l-diversity constraint to satisfy\n",
    "\n",
    "    Returns:\n",
    "        pandas.DataFrame: locally suppressed data satisfying l-diversity\n",
    "    \"\"\"\n",
    "    # your code here\n",
    "    return data"
   ]
  },
  {
   "cell_type": "markdown",
   "metadata": {
    "id": "dk7q8PnsRIsA"
   },
   "source": [
    "**[ 0.5 pts ]** Using the function, make the globally recoded dataset $2$-diverse for sensitive attribute ``Health Condition`` given quasi_identifiers ``ZipCode``,``BirthDate``, and show the suppressed groups."
   ]
  },
  {
   "cell_type": "code",
   "execution_count": null,
   "metadata": {
    "id": "4wsyhCqu8Zc8"
   },
   "outputs": [],
   "source": [
    "# your code here"
   ]
  },
  {
   "cell_type": "code",
   "execution_count": null,
   "metadata": {
    "id": "hHWb0ibVLDNo"
   },
   "outputs": [],
   "source": [
    "# your code here"
   ]
  },
  {
   "cell_type": "markdown",
   "metadata": {
    "id": "Vlk1XwOcRwD_"
   },
   "source": [
    "**[ 0.5 pts ]** Using the function, make the globally recoded dataset $3$-diverse for sensitive attribute ``Gender`` given quasi_identifiers ``ZipCode``,``BirthDate``, and show the suppressed groups."
   ]
  },
  {
   "cell_type": "code",
   "execution_count": null,
   "metadata": {
    "id": "-dHcroBJ8t5g"
   },
   "outputs": [],
   "source": [
    "# your code here"
   ]
  },
  {
   "cell_type": "code",
   "execution_count": null,
   "metadata": {
    "id": "K5oOy99mIjzW"
   },
   "outputs": [],
   "source": [
    "# your code here"
   ]
  },
  {
   "cell_type": "markdown",
   "metadata": {},
   "source": [
    "## Sufficiency of $k$-anonymity and $l$-diversity [ 1 pts ]"
   ]
  },
  {
   "cell_type": "markdown",
   "metadata": {},
   "source": [
    "**[ 1 pts ]** Describe one scenario where $k$-anonymity and $l$-diversity would be sufficient for guaranteeing the anonymity of a dataset, and one scenario where they will be insufficient. You may use tables to illustrate your answer. "
   ]
  },
  {
   "cell_type": "markdown",
   "metadata": {},
   "source": [
    "**[ Answer ]**"
   ]
  }
 ],
 "metadata": {
  "colab": {
   "provenance": [],
   "toc_visible": true
  },
  "kernelspec": {
   "display_name": "Python 3 (ipykernel)",
   "language": "python",
   "name": "python3"
  },
  "language_info": {
   "codemirror_mode": {
    "name": "ipython",
    "version": 3
   },
   "file_extension": ".py",
   "mimetype": "text/x-python",
   "name": "python",
   "nbconvert_exporter": "python",
   "pygments_lexer": "ipython3",
   "version": "3.11.7"
  }
 },
 "nbformat": 4,
 "nbformat_minor": 4
}
