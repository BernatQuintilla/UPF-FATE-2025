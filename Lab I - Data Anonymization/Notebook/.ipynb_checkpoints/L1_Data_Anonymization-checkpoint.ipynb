{
 "cells": [
  {
   "cell_type": "markdown",
   "metadata": {
    "id": "kb3-fEwU8Zcu"
   },
   "source": [
    "## Fairness, Accountability, Transparency and Ethics Course (FATE)\n",
    "## Universitat Pompeu Fabra (UPF)\n",
    "### Academic Year 2025-2026\n",
    "### Author: Ashwin Singh (ashwin.singh01@estudiant.upf.edu)\n",
    "*** Partially based on the original exercises made by David Solans (david.solans@upf.edu) ***\n",
    "\n",
    "Submission date: 03/02/2025 at 23:59 on Aula Global\n",
    "\n",
    "Please work on this notebook **individually**."
   ]
  },
  {
   "cell_type": "markdown",
   "metadata": {
    "id": "tiNB9MXw8Zcw"
   },
   "source": [
    "# LAB 1: Data anonymization with Python"
   ]
  },
  {
   "cell_type": "markdown",
   "metadata": {
    "id": "LwcB-eoBS36Z"
   },
   "source": [
    "# Getting Started"
   ]
  },
  {
   "cell_type": "markdown",
   "metadata": {
    "id": "_UArlWD58Zcx"
   },
   "source": [
    "## Imports"
   ]
  },
  {
   "cell_type": "code",
   "execution_count": null,
   "metadata": {
    "id": "Xojx0A5Q8Zcy"
   },
   "outputs": [],
   "source": [
    "from sklearn.preprocessing import MinMaxScaler\n",
    "from sklearn.metrics import mean_squared_error\n",
    "from sklearn.mixture import GaussianMixture\n",
    "from sklearn.cluster import KMeans\n",
    "from scipy.stats import pearsonr\n",
    "\n",
    "import matplotlib.pyplot as plt\n",
    "import seaborn as sns\n",
    "import pandas as pd\n",
    "import numpy as np\n",
    "import random"
   ]
  },
  {
   "cell_type": "code",
   "execution_count": null,
   "metadata": {
    "id": "k2MkPSvbSf0f"
   },
   "outputs": [],
   "source": [
    "import warnings\n",
    "\n",
    "warnings.filterwarnings(action=\"ignore\")"
   ]
  },
  {
   "cell_type": "markdown",
   "metadata": {
    "id": "yyEsipXz8Zcy"
   },
   "source": [
    "## Loading Dataset\n",
    "In this section we will use a synthetic dataset containing medical records of 100 users."
   ]
  },
  {
   "cell_type": "code",
   "execution_count": null,
   "metadata": {
    "colab": {
     "base_uri": "https://localhost:8080/",
     "height": 310
    },
    "id": "a4CmA4DH8Zcy",
    "outputId": "f8f81b9c-5583-4fff-e1b2-9a4951d244ec"
   },
   "outputs": [],
   "source": [
    "dataset_url = \"https://raw.githubusercontent.com/Ashwin-19/UPF-FATE-2025/refs/heads/main/Lab%20I%20-%20Data%20Anonymization/Data/health_dataset.csv\"\n",
    "health_data = pd.read_csv(dataset_url)\n",
    "health_data.head()"
   ]
  },
  {
   "cell_type": "markdown",
   "metadata": {
    "id": "ClpzpwIw8Zcz"
   },
   "source": [
    "## Types of Identifiers and Attributes [ 1 pts ]\n",
    "\n"
   ]
  },
  {
   "cell_type": "markdown",
   "metadata": {
    "id": "qYXzYQTM8Zcz"
   },
   "source": [
    "**[ 0.5 pts ]** List the identifiers and quasi-identifiers in the dataset:"
   ]
  },
  {
   "cell_type": "markdown",
   "metadata": {
    "id": "y3VbkFmf8Zcz"
   },
   "source": [
    "**[ Answer ]**"
   ]
  },
  {
   "cell_type": "markdown",
   "metadata": {
    "id": "Km-uMIbH8Zcz"
   },
   "source": [
    "**[ 0.5 pts ]** List the confidential attributes in the dataset."
   ]
  },
  {
   "cell_type": "markdown",
   "metadata": {
    "id": "2Kp2l9vo8Zcz"
   },
   "source": [
    "**[ Answer ]**"
   ]
  },
  {
   "cell_type": "markdown",
   "metadata": {
    "id": "7-05-LXe8Zcz"
   },
   "source": [
    "## Data Filtering [ 0.5 pts ]"
   ]
  },
  {
   "cell_type": "markdown",
   "metadata": {
    "id": "lVrgR_1a8Zc0"
   },
   "source": [
    "**[ 0.5 pts ]** Remove/Suppress the columns including personally identifiable information from the dataset.\n",
    "\n",
    "**[ Discuss ]** Why do we remove/supress them?"
   ]
  },
  {
   "cell_type": "code",
   "execution_count": null,
   "metadata": {
    "id": "LPYQYtNM8Zc0"
   },
   "outputs": [],
   "source": [
    "\"\"\" your code here \"\"\"\n",
    "# pii_columns = []\n",
    "# health_data = health_data[pii_columns]\n",
    "# health_data.head()"
   ]
  },
  {
   "cell_type": "markdown",
   "metadata": {
    "id": "r1805n3v9yhw"
   },
   "source": [
    "# K-Anonymity"
   ]
  },
  {
   "cell_type": "markdown",
   "metadata": {
    "id": "-MsCXZIl8Zc0"
   },
   "source": [
    "## Checking K-Anonymity [ 2 pts ]\n",
    "\n",
    "**[ 1.5 pts ]** Create a function which checks whether the data sastifies k-anonimity given some quasi-identifiers. Also return the maximum k for which the quasi-identifiers satisfy k-anonymity."
   ]
  },
  {
   "cell_type": "code",
   "execution_count": null,
   "metadata": {
    "id": "qIYqUrOo8Zc0"
   },
   "outputs": [],
   "source": [
    "def is_k_anonymous(data, quasi_identifiers):\n",
    "    \"\"\"\n",
    "    Determines whether the data is k-anonymous quasi-identifiers\n",
    "    and the maximum k for which k-anonymity is satisfied.\n",
    "\n",
    "    Args:\n",
    "        data (pandas.DataFrame): microdata\n",
    "        quasi_identifiers (list): quasi-identifiers in microdata\n",
    "\n",
    "    Returns:\n",
    "        bool: indicating whether the data is k-anonymous\n",
    "        int: maximum k for which k-anonymity is satisfied\n",
    "    \"\"\"\n",
    "    # Your code here\n",
    "    return True, 1"
   ]
  },
  {
   "cell_type": "markdown",
   "metadata": {
    "id": "a-WVEYmI8Zc0"
   },
   "source": [
    "**[ 0.25 pts ]** Is the data k-anonymous for BirthDate and ZipCode? If so, what is the maximum k for which k-anonymity is satisfied?"
   ]
  },
  {
   "cell_type": "code",
   "execution_count": null,
   "metadata": {
    "id": "fJRuVyib8Zc0"
   },
   "outputs": [],
   "source": [
    "# Your code here"
   ]
  },
  {
   "cell_type": "markdown",
   "metadata": {
    "id": "zkPLdqqY8Zc0"
   },
   "source": [
    "**[ 0.25 pts ]** Is the data k-anonymous for Gender and ZipCode? If so, what is the maximum k for which k-anonymity is satisfied?"
   ]
  },
  {
   "cell_type": "code",
   "execution_count": null,
   "metadata": {
    "id": "rNrFAtB58Zc0"
   },
   "outputs": [],
   "source": [
    "# Your code here"
   ]
  },
  {
   "cell_type": "markdown",
   "metadata": {
    "id": "g4Tn2Q9I8Zc0"
   },
   "source": [
    "## Testing K-Anonimity [ 1 pts ]\n",
    "\n",
    "To test our function, we will use a dataset from the example given in the [K-Anonymity article](https://en.wikipedia.org/wiki/K-anonymity) on Wikipedia and satisfies 2-anonymity for any combination of the attributes ``Age``, ``Gender`` and ``State of domicile``."
   ]
  },
  {
   "cell_type": "code",
   "execution_count": null,
   "metadata": {
    "colab": {
     "base_uri": "https://localhost:8080/",
     "height": 363
    },
    "id": "yMU-ThrT8Zc0",
    "outputId": "ac87028a-d721-49b3-bb42-42780fe5d714"
   },
   "outputs": [],
   "source": [
    "wiki_data = pd.read_html(\"https://en.wikipedia.org/wiki/K-anonymity\",header=0)[1]\n",
    "wiki_data"
   ]
  },
  {
   "cell_type": "markdown",
   "metadata": {
    "id": "km_cYixC8Zc0"
   },
   "source": [
    "**[ 1 pts ]** Test k-anonimity for the three attributes and their different combinations picking two attributes at a time. For each combination, find the maximum k satisfying k-anonymity."
   ]
  },
  {
   "cell_type": "code",
   "execution_count": null,
   "metadata": {
    "id": "h-_x4kR18Zc1"
   },
   "outputs": [],
   "source": [
    "## Your code here"
   ]
  },
  {
   "cell_type": "markdown",
   "metadata": {
    "id": "rOVlKCfm8Zc1"
   },
   "source": [
    "## Properties of K-Anonymity [ 1 pts ]\n",
    "> You may use examples from the previous exercises."
   ]
  },
  {
   "cell_type": "markdown",
   "metadata": {
    "id": "ymaJyK8G8Zc1"
   },
   "source": [
    "**[ 0.5 pts ]** If a dataset is $k_1$-anonymous for a set of attributes, and $k_2$-anonymous for any subset of those attributes, what is the relationship between $k_1$ and $k_2$? Can you show an example?"
   ]
  },
  {
   "cell_type": "markdown",
   "metadata": {
    "id": "CG2mwiLr8Zc1"
   },
   "source": [
    "**[ Answer ]**"
   ]
  },
  {
   "cell_type": "markdown",
   "metadata": {
    "id": "xbliaPrp8Zc1"
   },
   "source": [
    "**[ 0.5 pts ]** If a dataset is $k_1$-anonymous given an attribute $a_1$, and $k_2$-anonymous given an attribute $a_2$, is the dataset always $k$-anonymous given attributes $\\{a_1,a_2\\}$ ? If not, show an example, and find the maximum $k$ for which the dataset can be $k$-anonymous."
   ]
  },
  {
   "cell_type": "markdown",
   "metadata": {
    "id": "W3CSPLiJ8Zc1"
   },
   "source": [
    "**[ Answer ]**"
   ]
  },
  {
   "cell_type": "markdown",
   "metadata": {
    "id": "eK377hos8Zc1"
   },
   "source": [
    "## Methods for K-Anonymity [ 5 pts ]"
   ]
  },
  {
   "cell_type": "markdown",
   "metadata": {
    "id": "C3X5qYdq8Zc1"
   },
   "source": [
    "### GLOBAL Recoding (Generalization)"
   ]
  },
  {
   "cell_type": "markdown",
   "metadata": {
    "id": "qdrOkRAR8Zc1"
   },
   "source": [
    "**[ 0.25 pts ]** Create a function which applies **global recoding** to an attribute in the data upto $n$ digits."
   ]
  },
  {
   "cell_type": "code",
   "execution_count": null,
   "metadata": {
    "id": "ePnvxHAW8Zc1"
   },
   "outputs": [],
   "source": [
    "def global_recoding(data, attribute, n):\n",
    "    \"\"\"\n",
    "    applies global recoding to an attribute in the data for n digits\n",
    "\n",
    "    Args:\n",
    "        data (pandas.DataFrame): data for anonymization\n",
    "        attribute (str): attribute to be recoded\n",
    "        n (int): number of digits to be recoded\n",
    "\n",
    "    Returns:\n",
    "        pandas.DataFrame: globally recoded data\n",
    "    \"\"\"\n",
    "    # your code here"
   ]
  },
  {
   "cell_type": "markdown",
   "metadata": {
    "id": "2-tflo5U8Zc2"
   },
   "source": [
    "**[ 0.75 pts ]** Use the function to list all possible ways of 3-anonymizing the dataset given attributes ``BirthDate`` and ``ZipCode``. What is the best way of 3-anonymizing the dataset if we want to preserve maximum information about the health conditions across different zip codes?"
   ]
  },
  {
   "cell_type": "markdown",
   "metadata": {
    "id": "GdNWyk4V8Zc6"
   },
   "source": [
    "**[ Answer ]**"
   ]
  },
  {
   "cell_type": "code",
   "execution_count": null,
   "metadata": {
    "id": "NU1FLYz_8Zc6"
   },
   "outputs": [],
   "source": [
    "# your code here"
   ]
  },
  {
   "cell_type": "markdown",
   "metadata": {
    "id": "TLqOFfOb8Zc7"
   },
   "source": [
    "**[ 1 pts ]** For the best way of $3$-anonymizing the dataset from last question, comment on the sufficiency of $k$-anonymity against **homogeneity** and **internal** attacks aimed at inferring the health condition of patients. If you find $k$-anonymity to be insufficient, you must show quasi-identifier equivalence classes (groups) susceptible to the attacks."
   ]
  },
  {
   "cell_type": "code",
   "execution_count": null,
   "metadata": {
    "id": "B28A1V6y8Zc7"
   },
   "outputs": [],
   "source": [
    "# your code here"
   ]
  },
  {
   "cell_type": "code",
   "execution_count": null,
   "metadata": {
    "id": "nJiVut6k8Zc7"
   },
   "outputs": [],
   "source": [
    "# your code here"
   ]
  },
  {
   "cell_type": "markdown",
   "metadata": {
    "id": "ja4H_AOw8Zc7"
   },
   "source": [
    "### Microaggregation"
   ]
  },
  {
   "cell_type": "markdown",
   "metadata": {
    "id": "yZAi5FJX8Zc7"
   },
   "source": [
    "**[ 2 pts ]** Create a function which microaggregates continuous attributes (``height, weight``) to achieve $k$-anonymity, while minimizing the loss in information across both attributes. Return the best-possible $k$-anonymity and corresponding loss.\n",
    "\n",
    "**Recommended Approach**: Experiment with a clustering algorithm for $n \\leq \\frac{|Data|}{k}$ clusters to achieve $k$-anonymity, and use sum of squared errors between original and anonymized data for loss of information."
   ]
  },
  {
   "cell_type": "code",
   "execution_count": null,
   "metadata": {
    "id": "jg_0nL1Z8Zc7"
   },
   "outputs": [],
   "source": [
    "def microaggregation(data,attributes,k):\n",
    "    \"\"\"\n",
    "    applies microaggregation to attributes in the data\n",
    "    to achieve k'-anonymity, k' >= k\n",
    "\n",
    "    Args:\n",
    "        data (pandas.DataFrame): data for anonymization\n",
    "        attributes (list): attributes to be microaggregated\n",
    "        k (int): lower bound of k-anonymity to achieve\n",
    "\n",
    "    Returns:\n",
    "        tuple:\n",
    "            float: loss of information to achieve k' anonymity\n",
    "            int: k' corresponding to k'-anonymity achieved\n",
    "    \"\"\"\n",
    "    return loss, observed_k"
   ]
  },
  {
   "cell_type": "markdown",
   "metadata": {
    "id": "lP4G5IIa8Zc7"
   },
   "source": [
    "**[ 1 pts ]** Plot the relationship between $k$-anonymity achieved v/s loss of information for $k \\in \\{2,3,4,...10\\}$. What do you observe?"
   ]
  },
  {
   "cell_type": "code",
   "execution_count": null,
   "metadata": {
    "id": "JghQ4KMW8Zc7"
   },
   "outputs": [],
   "source": [
    "# your code here"
   ]
  },
  {
   "cell_type": "markdown",
   "metadata": {
    "id": "AjWrSIJS8Zc7"
   },
   "source": [
    "# L-Diversity"
   ]
  },
  {
   "cell_type": "markdown",
   "metadata": {
    "id": "kn_U0Yut-P6L"
   },
   "source": [
    "## Checking L-Diversity [ 1.5 pts ]"
   ]
  },
  {
   "cell_type": "markdown",
   "metadata": {
    "id": "qXHX_27G8Zc7"
   },
   "source": [
    "**[ 0.5 pts ]** Create a function which checks whether a dataset is l-diverse given a sensitive attribute and quasi-identifiers. If so, return the maximum-l for which the dataset satisfies l-diversity."
   ]
  },
  {
   "cell_type": "code",
   "execution_count": null,
   "metadata": {
    "id": "oBzIXn788Zc7"
   },
   "outputs": [],
   "source": [
    "def is_l_diverse(data, sensitive, quasi_identifiers):\n",
    "    \"\"\"\n",
    "    checks whether a data is l-diverse for a sensitive\n",
    "    attribute given quasi-identifiers, and returns the\n",
    "    maximum l for which the data satisfies l-diversity\n",
    "\n",
    "    Args:\n",
    "        data (pandas.DataFrame): data to check l-diversity for\n",
    "        sensitive (str): sensitive attribute for l-diversity\n",
    "        quasi_identifiers (list): list of quasi-identifiers\n",
    "\n",
    "    Returns:\n",
    "        tuple:\n",
    "            bool: indicating whether the data is l-diverse\n",
    "            int: maximum l for which the data satisfies l-diversity\n",
    "    \"\"\"\n",
    "    return True, l"
   ]
  },
  {
   "cell_type": "markdown",
   "metadata": {
    "id": "hlflK4Z58Zc8"
   },
   "source": [
    "> Answer the following questions for the original dataset, globally recoded dataset."
   ]
  },
  {
   "cell_type": "markdown",
   "metadata": {
    "id": "B6UC_AeSDMWK"
   },
   "source": [
    "**[ 0.5 pts ]** Is the dataset l-diverse given ``Health Condition`` as sensitive attribute and ``ZipCode, BirthDate`` as quasi-identifiers?"
   ]
  },
  {
   "cell_type": "code",
   "execution_count": null,
   "metadata": {
    "id": "0yxy67pyDR9t"
   },
   "outputs": [],
   "source": [
    "# your code here"
   ]
  },
  {
   "cell_type": "code",
   "execution_count": null,
   "metadata": {
    "id": "tGcCNsTsDSrR"
   },
   "outputs": [],
   "source": [
    "# your code here"
   ]
  },
  {
   "cell_type": "markdown",
   "metadata": {
    "id": "kWZRDNyb8Zc8"
   },
   "source": [
    "**[ 0.5 pts ]** Is the dataset l-diverse given ``Gender`` as sensitive attribute and ``ZipCode, BirthDate`` as quasi-identifiers?"
   ]
  },
  {
   "cell_type": "code",
   "execution_count": null,
   "metadata": {
    "id": "1k8OgpEz8Zc8"
   },
   "outputs": [],
   "source": [
    "# your code here"
   ]
  },
  {
   "cell_type": "code",
   "execution_count": null,
   "metadata": {
    "id": "I8d6Pk4r8Zc8"
   },
   "outputs": [],
   "source": [
    "# your code here"
   ]
  },
  {
   "cell_type": "markdown",
   "metadata": {
    "id": "ln2_GOHj8Zc8"
   },
   "source": [
    "## L-Diversity via Local Suppression [ 2 pts ]"
   ]
  },
  {
   "cell_type": "markdown",
   "metadata": {
    "id": "DNBB15na8Zc8"
   },
   "source": [
    "**[ 1 pts ]** Create a function to apply local suppression to groups within a $k$-anonymized dataset which violate $l$-diversity given a sensitive attribute, two quasi-identifiers, and $l$. If the same is not feasible, raise an error.\n"
   ]
  },
  {
   "cell_type": "code",
   "execution_count": null,
   "metadata": {
    "id": "gpWKOYnKFhFQ"
   },
   "outputs": [],
   "source": [
    "def local_suppression(data,sensitive,quasi_identifiers,l):\n",
    "    \"\"\"\n",
    "    locally suppresses quasi-identifier equivalence classes\n",
    "    in anonymized data which violate l-diversity so that the\n",
    "    overall data satisfies l-diversity\n",
    "\n",
    "    Args:\n",
    "        data (pandas.DataFrame): data for local suppression\n",
    "        sensitive (str): sensitive attribute for l-diversity\n",
    "        quasi_identifiers (list): quasi-identifiers to suppress\n",
    "        l (int): l-diversity constraint to satisfy\n",
    "\n",
    "    Returns:\n",
    "        pandas.DataFrame: locally suppressed data satisfying l-diversity\n",
    "    \"\"\"\n",
    "    # your code here\n",
    "    return data"
   ]
  },
  {
   "cell_type": "markdown",
   "metadata": {
    "id": "dk7q8PnsRIsA"
   },
   "source": [
    "**[ 0.5 pts ]** Using the function, make the globally recoded dataset $2$-diverse for sensitive attribute ``Health Condition`` given quasi_identifiers ``ZipCode``,``BirthDate``, and show the suppressed groups."
   ]
  },
  {
   "cell_type": "code",
   "execution_count": null,
   "metadata": {
    "id": "4wsyhCqu8Zc8"
   },
   "outputs": [],
   "source": [
    "# your code here"
   ]
  },
  {
   "cell_type": "code",
   "execution_count": null,
   "metadata": {
    "id": "hHWb0ibVLDNo"
   },
   "outputs": [],
   "source": [
    "# your code here"
   ]
  },
  {
   "cell_type": "markdown",
   "metadata": {
    "id": "Vlk1XwOcRwD_"
   },
   "source": [
    "**[ 0.5 pts ]** Using the function, make the globally recoded dataset $3$-diverse for sensitive attribute ``Gender`` given quasi_identifiers ``ZipCode``,``BirthDate``, and show the suppressed groups."
   ]
  },
  {
   "cell_type": "code",
   "execution_count": null,
   "metadata": {
    "id": "-dHcroBJ8t5g"
   },
   "outputs": [],
   "source": [
    "# your code here"
   ]
  },
  {
   "cell_type": "code",
   "execution_count": null,
   "metadata": {
    "id": "K5oOy99mIjzW"
   },
   "outputs": [],
   "source": [
    "# your code here"
   ]
  },
  {
   "cell_type": "markdown",
   "metadata": {},
   "source": [
    "## Sufficiency of $k$-anonymity and $l$-diversity [ 1 pts ]"
   ]
  },
  {
   "cell_type": "markdown",
   "metadata": {},
   "source": [
    "**[ 1 pts ]** Describe one scenario where $k$-anonymity and $l$-diversity would be sufficient for guaranteeing the anonymity of a dataset, and one scenario where they will be insufficient. You may use tables to illustrate your answer. "
   ]
  },
  {
   "cell_type": "markdown",
   "metadata": {},
   "source": [
    "**[ Answer ]**"
   ]
  }
 ],
 "metadata": {
  "colab": {
   "provenance": [],
   "toc_visible": true
  },
  "kernelspec": {
   "display_name": "base",
   "language": "python",
   "name": "python3"
  },
  "language_info": {
   "codemirror_mode": {
    "name": "ipython",
    "version": 3
   },
   "file_extension": ".py",
   "mimetype": "text/x-python",
   "name": "python",
   "nbconvert_exporter": "python",
   "pygments_lexer": "ipython3",
   "version": "3.8.19"
  }
 },
 "nbformat": 4,
 "nbformat_minor": 0
}
